{
 "cells": [
  {
   "cell_type": "markdown",
   "id": "09a529a2",
   "metadata": {},
   "source": [
    "# DAHL Week 17"
   ]
  },
  {
   "cell_type": "markdown",
   "id": "77237c41",
   "metadata": {},
   "source": [
    "## Setup"
   ]
  },
  {
   "cell_type": "code",
   "execution_count": 1,
   "id": "e1a61006",
   "metadata": {},
   "outputs": [],
   "source": [
    "import path\n",
    "import os\n",
    "from espn_api.hockey import League\n",
    "from ipywidgets import interact, interact_manual"
   ]
  },
  {
   "cell_type": "code",
   "execution_count": 2,
   "id": "293b5836",
   "metadata": {},
   "outputs": [],
   "source": [
    "setup_path = \"C:/Users/jwini/OneDrive/Documents/Python Scripts/hockey-analytics/Setup Files/\"\n",
    "cred_fname = \"credentials.py\"\n",
    "matchup_fname = \"DAHL Matchup Stats.py\"\n",
    "player_fname = \"DAHL Player Stats.py\"\n",
    "\n",
    "setup_files = [cred_fname, matchup_fname, player_fname]\n"
   ]
  },
  {
   "cell_type": "code",
   "execution_count": null,
   "id": "79604e0b",
   "metadata": {},
   "outputs": [],
   "source": [
    "for f in setup_files:\n",
    "    exec(open(os.path.join(setup_path, f)).read())\n"
   ]
  },
  {
   "cell_type": "code",
   "execution_count": null,
   "id": "44f0be68",
   "metadata": {},
   "outputs": [],
   "source": [
    "matchup_week1 = get_matchup_stats_to_df(1)\n",
    "matchup_week2 = get_matchup_stats_to_df(2)\n",
    "matchup_week3 = get_matchup_stats_to_df(3)\n",
    "matchup_week4 = get_matchup_stats_to_df(4)\n",
    "matchup_week5 = get_matchup_stats_to_df(5)\n",
    "matchup_week6 = get_matchup_stats_to_df(6)\n",
    "matchup_week7 = get_matchup_stats_to_df(7)\n",
    "matchup_week8 = get_matchup_stats_to_df(8)\n",
    "matchup_week9 = get_matchup_stats_to_df(9)\n",
    "matchup_week10 = get_matchup_stats_to_df(10)\n",
    "matchup_week11 = get_matchup_stats_to_df(11)\n",
    "matchup_week12 = get_matchup_stats_to_df(12)\n",
    "matchup_week13 = get_matchup_stats_to_df(13)\n",
    "matchup_week14 = get_matchup_stats_to_df(14)\n",
    "matchup_week15 = get_matchup_stats_to_df(15)\n",
    "matchup_week16 = get_matchup_stats_to_df(16)\n",
    "matchup_week17 = get_matchup_stats_to_df(17)\n"
   ]
  },
  {
   "cell_type": "code",
   "execution_count": null,
   "id": "57b52c29",
   "metadata": {},
   "outputs": [],
   "source": [
    "week1 = clean_matchup_df(matchup_week1)\n",
    "week2 = clean_matchup_df(matchup_week2)\n",
    "week3 = clean_matchup_df(matchup_week3)        \n",
    "week4 = clean_matchup_df(matchup_week4)        \n",
    "week5 = clean_matchup_df(matchup_week5)\n",
    "week6 = clean_matchup_df(matchup_week6)\n",
    "week7 = clean_matchup_df(matchup_week7)\n",
    "week8 = clean_matchup_df(matchup_week8)\n",
    "week9 = clean_matchup_df(matchup_week9)\n",
    "week10 = clean_matchup_df(matchup_week10)\n",
    "week11 = clean_matchup_df(matchup_week11)\n",
    "week12 = clean_matchup_df(matchup_week12)\n",
    "week13 = clean_matchup_df(matchup_week13)\n",
    "week14 = clean_matchup_df(matchup_week14)\n",
    "week15 = clean_matchup_df(matchup_week15)\n",
    "week16 = clean_matchup_df(matchup_week16)\n",
    "week17 = clean_matchup_df(matchup_week17)\n",
    "matchup_weeks = [week1, week2, week3, week4, \n",
    "                 week5, week6, week7,week8, \n",
    "                 week9, week10, week11, week12, \n",
    "                 week13, week14, week15, week16,\n",
    "                week17]\n"
   ]
  },
  {
   "cell_type": "code",
   "execution_count": null,
   "id": "99db2a18",
   "metadata": {},
   "outputs": [],
   "source": [
    "matchup_df_clean = clean_matchup_dfs(matchup_weeks)"
   ]
  },
  {
   "cell_type": "markdown",
   "id": "a0d346de",
   "metadata": {},
   "source": [
    "## Matchup Plots Week 15"
   ]
  },
  {
   "cell_type": "code",
   "execution_count": null,
   "id": "a453137b",
   "metadata": {},
   "outputs": [],
   "source": [
    "plot_weekly_points(matchup_df_clean,18)"
   ]
  },
  {
   "cell_type": "code",
   "execution_count": null,
   "id": "04a4788b",
   "metadata": {},
   "outputs": [],
   "source": [
    "plot_week_bar(matchup_df_clean,17)"
   ]
  },
  {
   "cell_type": "markdown",
   "id": "029bfc44",
   "metadata": {},
   "source": [
    "### Fantasy Points (home points adjusted)"
   ]
  },
  {
   "cell_type": "code",
   "execution_count": null,
   "id": "53bd0f7f",
   "metadata": {},
   "outputs": [],
   "source": [
    "matchup_tables(matchup_df_clean, \"Fantasy Points\", False)   "
   ]
  },
  {
   "cell_type": "markdown",
   "id": "3c0bbcf7",
   "metadata": {},
   "source": [
    "### Fantasy Points Against"
   ]
  },
  {
   "cell_type": "code",
   "execution_count": null,
   "id": "45edc5a6",
   "metadata": {
    "scrolled": true
   },
   "outputs": [],
   "source": [
    "matchup_tables(matchup_df_clean, \"Opponent Fantasy Points\", False)   \n"
   ]
  },
  {
   "cell_type": "markdown",
   "id": "d385c06a",
   "metadata": {},
   "source": [
    "# Fantasy Points Rank"
   ]
  },
  {
   "cell_type": "markdown",
   "id": "12494cb1",
   "metadata": {},
   "source": [
    "Scale from 1-10. 1 means you had the most points that week, 10 means you had the least amount. "
   ]
  },
  {
   "cell_type": "code",
   "execution_count": null,
   "id": "95a7712c",
   "metadata": {
    "scrolled": true
   },
   "outputs": [],
   "source": [
    "matchup_tables(matchup_df_clean, \"Fantasy Points Rank\", True)  "
   ]
  },
  {
   "cell_type": "markdown",
   "id": "6fe3836d",
   "metadata": {},
   "source": [
    "# Player Stats"
   ]
  },
  {
   "cell_type": "markdown",
   "id": "d60e7e89",
   "metadata": {},
   "source": [
    "All Teams\n",
    "- Season Total Time on Ice (TTOI) vs Points\n",
    "- Season Average Time on Ice (ATOI) vs Points\n",
    "\n",
    "Individual Teams (Week 10)\n",
    "- Average TOI vs Points\n",
    "- Points vs Power Play Points\n",
    "- Games Played vs Points\n"
   ]
  },
  {
   "cell_type": "code",
   "execution_count": null,
   "id": "f2b4c8ca",
   "metadata": {},
   "outputs": [],
   "source": [
    "player_stats = season_player_stats(1,15)"
   ]
  },
  {
   "cell_type": "code",
   "execution_count": null,
   "id": "b967b4dc",
   "metadata": {},
   "outputs": [],
   "source": [
    "#team_names\n",
    "week_range = list(range(0,10+1))\n",
    "x_stats = ['Points', '+/-',\n",
    "       '12', '16', '19', '25', '30', '35', '36', '37', 'A', 'ATOI', 'BLK',\n",
    "       'DEF', 'FOL', 'FOW', 'G', 'GA', 'GAA', 'GP', 'GS', 'GWG', 'HAT', 'HIT',\n",
    "       'L', 'MIN ?', 'OTL', 'PIM', 'PPG', 'PPP', 'SA', 'SHA', 'SHG', 'SHP',\n",
    "       'SO', 'SOG', 'SV', 'SV%', 'TTOI ?', 'W']\n",
    "y_stats = ['Points', '+/-',\n",
    "       '12', '16', '19', '25', '30', '35', '36', '37', 'A', 'ATOI', 'BLK',\n",
    "       'DEF', 'FOL', 'FOW', 'G', 'GA', 'GAA', 'GP', 'GS', 'GWG', 'HAT', 'HIT',\n",
    "       'L', 'MIN ?', 'OTL', 'PIM', 'PPG', 'PPP', 'SA', 'SHA', 'SHG', 'SHP',\n",
    "       'SO', 'SOG', 'SV', 'SV%', 'TTOI ?', 'W']"
   ]
  },
  {
   "cell_type": "code",
   "execution_count": null,
   "id": "8441b8e3",
   "metadata": {},
   "outputs": [],
   "source": [
    "def plot_player_scatter(week_start, week_end, data, x_stat, y_stat):\n",
    "    fig, ax = plt.subplots(figsize = (9,8))\n",
    "    #data = data.loc[team]\n",
    "    for team, group in data.groupby('Team Name'):\n",
    "        ax.scatter(group[x_stat], group[y_stat], label = team)\n",
    "    ax.legend(loc='best')\n",
    "    ax.set_ylabel(str(y_stat) + ' per Player')\n",
    "    ax.set_xlabel(str(x_stat) + ' per Player')\n",
    "    ax.set_title(str(x_stat) + ' and ' + str(y_stat) + ' per Player: Week ' + str(week_start) + \" to \" + str(week_end))\n",
    "    \n",
    "    \n",
    "    "
   ]
  },
  {
   "cell_type": "code",
   "execution_count": null,
   "id": "bf0fa1d3",
   "metadata": {},
   "outputs": [],
   "source": [
    "def plot_player_lines(df, team, x_stat, y_stat, week = 0):\n",
    "    if week == 0:\n",
    "        fig, ax = plt.subplots(figsize = (10,10))\n",
    "        df = df[df['Team Name'] == team]\n",
    "        for key, grp in df.groupby(['Player Name']):\n",
    "                ax.scatter(grp[x_stat], grp[y_stat], label=key)\n",
    "                plt.legend(loc='center left', bbox_to_anchor=(1, 0.5))\n",
    "        ax.set_ylabel(str(y_stat) + ' per Player')\n",
    "        ax.set_xlabel(str(x_stat) + ' per Player')\n",
    "        ax.set_title(str(x_stat) + ' and ' + str(y_stat) + ' per Player: Season, ' + team)\n",
    "    else:\n",
    "        fig, ax = plt.subplots(figsize = (10,10))\n",
    "        df = df[df['Team Name'] == team]\n",
    "        df = df[df['Week Number'] == week]\n",
    "        for key, grp in df.groupby(['Player Name']):\n",
    "                ax.scatter(grp[x_stat], grp[y_stat], label=key)\n",
    "                plt.legend(loc='center left', bbox_to_anchor=(1, 0.5))\n",
    "        ax.set_ylabel(str(y_stat) + ' per Player')\n",
    "        ax.set_xlabel(str(x_stat) + ' per Player')\n",
    "        ax.set_title(str(x_stat) + ' and ' + str(y_stat) + ' per Player: Week ' + str(week) + \": \" + team)\n",
    "        ax.get_legend().remove()\n",
    "        df[[x_stat,y_stat,'Player Name']].apply(lambda x: ax.text(*x),axis=1)\n",
    "        \n",
    "    "
   ]
  },
  {
   "cell_type": "code",
   "execution_count": null,
   "id": "0835beea",
   "metadata": {},
   "outputs": [],
   "source": [
    "plot_player_scatter(1, 17, player_stats, 'TTOI ?', 'Points')"
   ]
  },
  {
   "cell_type": "code",
   "execution_count": null,
   "id": "65ed2610",
   "metadata": {},
   "outputs": [],
   "source": [
    "plot_player_scatter(1, 17, player_stats, 'ATOI', 'Points')"
   ]
  },
  {
   "cell_type": "markdown",
   "id": "c5f56d79",
   "metadata": {},
   "source": [
    "# # Average TOI vs Fantasy Points: Week 17 (per Team)"
   ]
  },
  {
   "cell_type": "code",
   "execution_count": null,
   "id": "276e9aee",
   "metadata": {},
   "outputs": [],
   "source": [
    "for team in team_names:\n",
    "    plot_player_lines(player_stats, team,'ATOI', 'Points', 15)"
   ]
  },
  {
   "cell_type": "markdown",
   "id": "a58d762d",
   "metadata": {},
   "source": [
    "# # Fantasy Points vs Power Play Points: Week 17 (per Team)"
   ]
  },
  {
   "cell_type": "code",
   "execution_count": null,
   "id": "102336db",
   "metadata": {},
   "outputs": [],
   "source": [
    "for team in team_names:\n",
    "    plot_player_lines(player_stats, team,'PPP', 'Points', 17)"
   ]
  },
  {
   "cell_type": "markdown",
   "id": "3f2282ed",
   "metadata": {},
   "source": [
    "# # Games Played vs Fantasy Points: Week 17 (per team)"
   ]
  },
  {
   "cell_type": "markdown",
   "id": "c346a575",
   "metadata": {},
   "source": [
    "Games Played: how many times that player had a game that week."
   ]
  },
  {
   "cell_type": "code",
   "execution_count": null,
   "id": "e72d3a05",
   "metadata": {},
   "outputs": [],
   "source": [
    "for team in team_names:\n",
    "    plot_player_lines(player_stats, team,'GP', 'Points', 17)"
   ]
  },
  {
   "cell_type": "code",
   "execution_count": null,
   "id": "be5b596c",
   "metadata": {},
   "outputs": [],
   "source": [
    "#@interact(team = team_names, x_stat = x_stats, y_stat = y_stats, week = week_range)\n",
    "#def plot_players(team = team_names[0], x_stat = x_stats[0], y_stat = y_stats[0], week = week_range[0]):\n",
    "#    plot = plot_player_lines(player_stats, team, x_stat, y_stat, week)"
   ]
  }
 ],
 "metadata": {
  "kernelspec": {
   "display_name": "Python 3 (ipykernel)",
   "language": "python",
   "name": "python3"
  },
  "language_info": {
   "codemirror_mode": {
    "name": "ipython",
    "version": 3
   },
   "file_extension": ".py",
   "mimetype": "text/x-python",
   "name": "python",
   "nbconvert_exporter": "python",
   "pygments_lexer": "ipython3",
   "version": "3.8.5"
  }
 },
 "nbformat": 4,
 "nbformat_minor": 5
}
