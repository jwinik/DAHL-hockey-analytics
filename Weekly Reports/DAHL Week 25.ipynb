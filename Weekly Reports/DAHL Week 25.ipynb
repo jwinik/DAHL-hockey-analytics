{
 "cells": [
  {
   "cell_type": "markdown",
   "id": "09a529a2",
   "metadata": {},
   "source": [
    "# DAHL Week 25"
   ]
  },
  {
   "cell_type": "markdown",
   "id": "77237c41",
   "metadata": {},
   "source": [
    "## Setup"
   ]
  },
  {
   "cell_type": "code",
   "execution_count": 1,
   "id": "e1a61006",
   "metadata": {},
   "outputs": [],
   "source": [
    "import path\n",
    "import os\n",
    "from espn_api.hockey import League\n",
    "from ipywidgets import interact, interact_manual"
   ]
  },
  {
   "cell_type": "code",
   "execution_count": 2,
   "id": "293b5836",
   "metadata": {},
   "outputs": [],
   "source": [
    "setup_path = r\"C:\\Users\\jwini\\Documents\\Gtihub Repositories\\hockey-analytics\\Setup Files\"\n",
    "cred_fname = \"credentials.py\"\n",
    "matchup_fname = \"DAHL Matchup Stats.py\"\n",
    "player_fname = \"DAHL Player Stats.py\"\n",
    "\n",
    "setup_files = [cred_fname, matchup_fname, player_fname]\n"
   ]
  },
  {
   "cell_type": "code",
   "execution_count": 3,
   "id": "1ee42713",
   "metadata": {},
   "outputs": [],
   "source": [
    "for f in setup_files:\n",
    "    exec(open(os.path.join(setup_path, f)).read())\n"
   ]
  },
  {
   "cell_type": "code",
   "execution_count": 4,
   "id": "79604e0b",
   "metadata": {},
   "outputs": [],
   "source": [
    "#update week\n",
    "week = 25\n"
   ]
  },
  {
   "cell_type": "code",
   "execution_count": 7,
   "id": "a06147c9",
   "metadata": {},
   "outputs": [
    {
     "ename": "AttributeError",
     "evalue": "'int' object has no attribute 'team_name'",
     "output_type": "error",
     "traceback": [
      "\u001b[1;31m---------------------------------------------------------------------------\u001b[0m",
      "\u001b[1;31mAttributeError\u001b[0m                            Traceback (most recent call last)",
      "\u001b[1;32m~\\AppData\\Local\\Temp/ipykernel_36380/3571898258.py\u001b[0m in \u001b[0;36m<module>\u001b[1;34m\u001b[0m\n\u001b[1;32m----> 1\u001b[1;33m \u001b[0mmatchup_df_clean\u001b[0m \u001b[1;33m=\u001b[0m \u001b[0mcreate_matchup_df\u001b[0m\u001b[1;33m(\u001b[0m\u001b[1;36m1\u001b[0m\u001b[1;33m,\u001b[0m\u001b[0mweek\u001b[0m\u001b[1;33m)\u001b[0m\u001b[1;33m\u001b[0m\u001b[1;33m\u001b[0m\u001b[0m\n\u001b[0m",
      "\u001b[1;32m<string>\u001b[0m in \u001b[0;36mcreate_matchup_df\u001b[1;34m(start, end)\u001b[0m\n",
      "\u001b[1;32m<string>\u001b[0m in \u001b[0;36mget_matchup_list\u001b[1;34m(period)\u001b[0m\n",
      "\u001b[1;31mAttributeError\u001b[0m: 'int' object has no attribute 'team_name'"
     ]
    }
   ],
   "source": [
    "matchup_df_clean = create_matchup_df(1,week) "
   ]
  },
  {
   "cell_type": "markdown",
   "id": "a0d346de",
   "metadata": {},
   "source": [
    "## Matchup Plots Week 25"
   ]
  },
  {
   "cell_type": "code",
   "execution_count": null,
   "id": "a453137b",
   "metadata": {},
   "outputs": [],
   "source": [
    "plot_weekly_points(matchup_df_clean,week)"
   ]
  },
  {
   "cell_type": "code",
   "execution_count": null,
   "id": "04a4788b",
   "metadata": {},
   "outputs": [],
   "source": [
    "plot_week_bar(matchup_df_clean,week)"
   ]
  },
  {
   "cell_type": "markdown",
   "id": "029bfc44",
   "metadata": {},
   "source": [
    "### Fantasy Points (home points adjusted)"
   ]
  },
  {
   "cell_type": "code",
   "execution_count": null,
   "id": "53bd0f7f",
   "metadata": {},
   "outputs": [],
   "source": [
    "matchup_tables(matchup_df_clean, \"Fantasy Points\", False)   "
   ]
  },
  {
   "cell_type": "markdown",
   "id": "3c0bbcf7",
   "metadata": {},
   "source": [
    "### Fantasy Points Against"
   ]
  },
  {
   "cell_type": "code",
   "execution_count": null,
   "id": "45edc5a6",
   "metadata": {
    "scrolled": true
   },
   "outputs": [],
   "source": [
    "matchup_tables(matchup_df_clean, \"Opponent Fantasy Points\", False)   \n"
   ]
  },
  {
   "cell_type": "markdown",
   "id": "d385c06a",
   "metadata": {},
   "source": [
    "# Fantasy Points Rank"
   ]
  },
  {
   "cell_type": "markdown",
   "id": "12494cb1",
   "metadata": {},
   "source": [
    "Scale from 1-10. 1 means you had the most points that week, 10 means you had the least amount. "
   ]
  },
  {
   "cell_type": "code",
   "execution_count": null,
   "id": "95a7712c",
   "metadata": {
    "scrolled": true
   },
   "outputs": [],
   "source": [
    "matchup_tables(matchup_df_clean, \"Fantasy Points Rank\", True)  "
   ]
  },
  {
   "cell_type": "markdown",
   "id": "6fe3836d",
   "metadata": {},
   "source": [
    "# Player Stats"
   ]
  },
  {
   "cell_type": "markdown",
   "id": "d60e7e89",
   "metadata": {},
   "source": [
    "All Teams\n",
    "- Season Total Time on Ice (TTOI) vs Points\n",
    "- Season Average Time on Ice (ATOI) vs Points\n",
    "\n",
    "Individual Teams\n",
    "- Average TOI vs Points\n",
    "- Points vs Power Play Points\n",
    "- Games Played vs Points\n"
   ]
  },
  {
   "cell_type": "code",
   "execution_count": null,
   "id": "f2b4c8ca",
   "metadata": {},
   "outputs": [],
   "source": [
    "player_stats = season_player_stats(1,week)\n"
   ]
  },
  {
   "cell_type": "code",
   "execution_count": null,
   "id": "a7f0a35d",
   "metadata": {},
   "outputs": [],
   "source": [
    "#player_stats.head()"
   ]
  },
  {
   "cell_type": "code",
   "execution_count": null,
   "id": "0835beea",
   "metadata": {},
   "outputs": [],
   "source": [
    "plot_player_scatter(1, week, player_stats, 'TTOI ?', 'Points')"
   ]
  },
  {
   "cell_type": "code",
   "execution_count": null,
   "id": "65ed2610",
   "metadata": {},
   "outputs": [],
   "source": [
    "plot_player_scatter(1, week, player_stats, 'ATOI', 'Points')"
   ]
  },
  {
   "cell_type": "markdown",
   "id": "c5f56d79",
   "metadata": {},
   "source": [
    "# # Average TOI vs Fantasy Points"
   ]
  },
  {
   "cell_type": "code",
   "execution_count": null,
   "id": "276e9aee",
   "metadata": {},
   "outputs": [],
   "source": [
    "for team in team_names:\n",
    "    plot_player_lines(player_stats, team,'ATOI', 'Points', week)"
   ]
  },
  {
   "cell_type": "markdown",
   "id": "a58d762d",
   "metadata": {},
   "source": [
    "# # Fantasy Points vs Power Play Points"
   ]
  },
  {
   "cell_type": "code",
   "execution_count": null,
   "id": "102336db",
   "metadata": {},
   "outputs": [],
   "source": [
    "for team in team_names:\n",
    "    plot_player_lines(player_stats, team,'PPP', 'Points', week)"
   ]
  },
  {
   "cell_type": "markdown",
   "id": "3f2282ed",
   "metadata": {},
   "source": [
    "# # Games Played vs Fantasy Points"
   ]
  },
  {
   "cell_type": "markdown",
   "id": "c346a575",
   "metadata": {},
   "source": [
    "Games Played: how many times that player had a game that week."
   ]
  },
  {
   "cell_type": "code",
   "execution_count": null,
   "id": "e72d3a05",
   "metadata": {},
   "outputs": [],
   "source": [
    "for team in team_names:\n",
    "    plot_player_lines(player_stats, team,'GP', 'Points', week)"
   ]
  },
  {
   "cell_type": "markdown",
   "id": "0e62f493",
   "metadata": {},
   "source": [
    "# Fantasy Points by Age"
   ]
  },
  {
   "cell_type": "markdown",
   "id": "30996ecc",
   "metadata": {},
   "source": [
    "Current Week"
   ]
  },
  {
   "cell_type": "code",
   "execution_count": null,
   "id": "3e70284f",
   "metadata": {},
   "outputs": [],
   "source": [
    "ew_path = r\"C:\\Users\\jwini\\Documents\\Gtihub Repositories\\hockey-analytics\\Data\\Evolving Hockey\"\n",
    "ew_csv = \"EH_std_sk_stats_all_regular_no_adj_2022-04-02.csv\"\n",
    "\n",
    "player_stats_age = merge_pstats(player_stats, ew_csv, ew_path)\n",
    "\n",
    "for t in team_names:\n",
    "    plot_age_bar(player_stats_age, week = week, team = t)\n",
    "    "
   ]
  },
  {
   "cell_type": "markdown",
   "id": "809667b0",
   "metadata": {},
   "source": [
    "This season to date"
   ]
  },
  {
   "cell_type": "code",
   "execution_count": null,
   "id": "bb159941",
   "metadata": {},
   "outputs": [],
   "source": [
    "for t in team_names:\n",
    "    plot_age_bar(player_stats_age, week = 0, team = t)"
   ]
  },
  {
   "cell_type": "code",
   "execution_count": null,
   "id": "be5b596c",
   "metadata": {
    "scrolled": true
   },
   "outputs": [],
   "source": [
    "#team_names\n",
    "week_range = list(range(0,week+1))\n",
    "\n",
    "@interact(team = team_names, x_stat = x_stats, y_stat = y_stats, week = week_range)\n",
    "def plot_players(team = team_names[0], x_stat = x_stats[0], y_stat = y_stats[0], week = week_range[0]):\n",
    "    plot = plot_player_lines(player_stats, team, x_stat, y_stat, week)"
   ]
  },
  {
   "cell_type": "code",
   "execution_count": null,
   "id": "37c6fc0e",
   "metadata": {},
   "outputs": [],
   "source": []
  }
 ],
 "metadata": {
  "kernelspec": {
   "display_name": "Python 3 (ipykernel)",
   "language": "python",
   "name": "python3"
  },
  "language_info": {
   "codemirror_mode": {
    "name": "ipython",
    "version": 3
   },
   "file_extension": ".py",
   "mimetype": "text/x-python",
   "name": "python",
   "nbconvert_exporter": "python",
   "pygments_lexer": "ipython3",
   "version": "3.8.5"
  }
 },
 "nbformat": 4,
 "nbformat_minor": 5
}
